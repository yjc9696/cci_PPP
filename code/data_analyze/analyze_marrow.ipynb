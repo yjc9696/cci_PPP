{
 "cells": [
  {
   "cell_type": "code",
   "execution_count": 1,
   "metadata": {},
   "outputs": [
    {
     "ename": "NameError",
     "evalue": "name '__file__' is not defined",
     "output_type": "error",
     "traceback": [
      "\u001b[0;31m---------------------------------------------------------------------------\u001b[0m",
      "\u001b[0;31mNameError\u001b[0m                                 Traceback (most recent call last)",
      "\u001b[0;32m<ipython-input-1-e3592f5ec5dc>\u001b[0m in \u001b[0;36m<module>\u001b[0;34m\u001b[0m\n\u001b[1;32m      8\u001b[0m \u001b[0;32mimport\u001b[0m \u001b[0mos\u001b[0m\u001b[0;34m\u001b[0m\u001b[0;34m\u001b[0m\u001b[0m\n\u001b[1;32m      9\u001b[0m \u001b[0;32mimport\u001b[0m \u001b[0msys\u001b[0m\u001b[0;34m\u001b[0m\u001b[0;34m\u001b[0m\u001b[0m\n\u001b[0;32m---> 10\u001b[0;31m \u001b[0msys\u001b[0m\u001b[0;34m.\u001b[0m\u001b[0mpath\u001b[0m\u001b[0;34m.\u001b[0m\u001b[0mappend\u001b[0m\u001b[0;34m(\u001b[0m\u001b[0mstr\u001b[0m\u001b[0;34m(\u001b[0m\u001b[0mPath\u001b[0m\u001b[0;34m(\u001b[0m\u001b[0m__file__\u001b[0m\u001b[0;34m)\u001b[0m\u001b[0;34m.\u001b[0m\u001b[0mparent\u001b[0m\u001b[0;34m.\u001b[0m\u001b[0mresolve\u001b[0m\u001b[0;34m(\u001b[0m\u001b[0;34m)\u001b[0m\u001b[0;34m.\u001b[0m\u001b[0mparent\u001b[0m\u001b[0;34m.\u001b[0m\u001b[0mresolve\u001b[0m\u001b[0;34m(\u001b[0m\u001b[0;34m)\u001b[0m\u001b[0;34m)\u001b[0m\u001b[0;34m)\u001b[0m\u001b[0;34m\u001b[0m\u001b[0;34m\u001b[0m\u001b[0m\n\u001b[0m\u001b[1;32m     11\u001b[0m \u001b[0;31m# print(sys.path)\u001b[0m\u001b[0;34m\u001b[0m\u001b[0;34m\u001b[0m\u001b[0;34m\u001b[0m\u001b[0m\n\u001b[1;32m     12\u001b[0m \u001b[0;32mfrom\u001b[0m \u001b[0mtorchlight\u001b[0m \u001b[0;32mimport\u001b[0m \u001b[0mset_seed\u001b[0m\u001b[0;34m\u001b[0m\u001b[0;34m\u001b[0m\u001b[0m\n",
      "\u001b[0;31mNameError\u001b[0m: name '__file__' is not defined"
     ]
    }
   ],
   "source": [
    "#! /usr/local/bin/python\n",
    "# ! -*- encoding:utf-8 -*-\n",
    "import argparse\n",
    "from pathlib import Path\n",
    "import pandas as pd\n",
    "import numpy as np\n",
    "import random, time\n",
    "import os\n",
    "import sys\n",
    "sys.path.append(str(Path(__file__).parent.resolve().parent.resolve()))\n",
    "# print(sys.path)\n",
    "from torchlight import set_seed\n",
    "from multiprocessing import Pool, Process\n",
    "import threading\n"
   ]
  },
  {
   "cell_type": "code",
   "execution_count": 2,
   "metadata": {},
   "outputs": [
    {
     "name": "stderr",
     "output_type": "stream",
     "text": [
      "usage: ipykernel_launcher.py [-h] [--random_seed RANDOM_SEED]\n",
      "                             [--data_dir DATA_DIR] [--dataset DATASET]\n",
      "                             [--cell_data CELL_DATA]\n",
      "                             [--cell_cluster CELL_CLUSTER]\n",
      "                             [--cluster_cluster_interaction_enriched CLUSTER_CLUSTER_INTERACTION_ENRICHED]\n",
      "                             [--cluster_cluster_interaction_depleted CLUSTER_CLUSTER_INTERACTION_DEPLETED]\n",
      "                             [--ligand_receptor_gene LIGAND_RECEPTOR_GENE]\n",
      "                             [--clusters CLUSTERS [CLUSTERS ...]]\n",
      "ipykernel_launcher.py: error: unrecognized arguments: -f /home/yangyueren/.local/share/jupyter/runtime/kernel-f380889e-09c0-4819-a598-becc415c0c49.json\n"
     ]
    },
    {
     "ename": "SystemExit",
     "evalue": "2",
     "output_type": "error",
     "traceback": [
      "An exception has occurred, use %tb to see the full traceback.\n",
      "\u001b[0;31mSystemExit\u001b[0m\u001b[0;31m:\u001b[0m 2\n"
     ]
    },
    {
     "name": "stderr",
     "output_type": "stream",
     "text": [
      "/home/yangyueren/anaconda3/envs/pytor/lib/python3.6/site-packages/IPython/core/interactiveshell.py:3327: UserWarning: To exit: use 'exit', 'quit', or Ctrl-D.\n",
      "  warn(\"To exit: use 'exit', 'quit', or Ctrl-D.\", stacklevel=1)\n"
     ]
    }
   ],
   "source": [
    "parser = argparse.ArgumentParser(description='Analyze marrow gene')\n",
    "parser.add_argument(\"--random_seed\", type=int, default=10086)\n",
    "parser.add_argument(\"--data_dir\", type=str, default='small_intestine_bone_marrow',\n",
    "                    help=\"root path of the data dir\")\n",
    "# parser.add_argument(\"--dataset\", type=str, default='train_dataset',\n",
    "#                     help=\" dataset\")\n",
    "parser.add_argument(\"--dataset\", type=str, default='test_dataset',\n",
    "                    help=\"test dataset\")\n",
    "parser.add_argument(\"--cell_data\", type=str, default='mouse_small_intestine_1189_data.csv',\n",
    "                    help=\"cell data gene\")\n",
    "parser.add_argument(\"--cell_cluster\", type=str, default='mouse_small_intestine_1189_cellcluster.csv',\n",
    "                    help=\"cell belongs to which cluster\")\n",
    "parser.add_argument(\"--cluster_cluster_interaction_enriched\", type=str, default='mouse_small_intestine_1189_cluster_cluster_interaction_enriched.csv',\n",
    "                    help=\"cluster - cluster interaction enriched\")\n",
    "parser.add_argument(\"--cluster_cluster_interaction_depleted\", type=str, default='mouse_small_intestine_1189_cluster_cluster_interaction_depleted.csv',\n",
    "                    help=\"cluster - cluster interaction depleted\")\n",
    "parser.add_argument(\"--ligand_receptor_gene\", type=str, default='mouse_ligand_receptor_pair.csv',\n",
    "                    help=\"cluster - cluster interaction depleted\")\n",
    "parser.add_argument(\"--clusters\", nargs='+', type=int, default=[1,2,3,4,5,6,7,8,9,10,11,12,13,14,15,16,17,18,19,20,21,22,23,24,25,26,27,28,29,30,31,32,33,34,35,36,37,38,39,40,41,42,43,44,45],\n",
    "                    help=\"cluster used to train\")\n",
    "# parser.add_argument(\"--clusters\", nargs='+', type=int, default=[1, 3, 5, 7, 9, 10, 13, 14, 15, 16, 17, 18, 19, 20],\n",
    "#                     help=\"cluster used to train\")\n",
    "# parser.add_argument(\"--clusters\", nargs='+', type=int, default=[2, 4, 6, 8, 11, 12],\n",
    "#                     help=\"cluster used to test\")\n",
    "\n",
    "params = parser.parse_args()\n",
    "print(params)\n",
    "\n",
    "set_seed(params.random_seed)"
   ]
  },
  {
   "cell_type": "code",
   "execution_count": null,
   "metadata": {},
   "outputs": [],
   "source": []
  }
 ],
 "metadata": {
  "kernelspec": {
   "display_name": "Python 3.6.9 64-bit ('pytor': conda)",
   "language": "python",
   "name": "python36964bitpytorconda7710ec7d1f9d4ba6acef2234e82b461f"
  },
  "language_info": {
   "codemirror_mode": {
    "name": "ipython",
    "version": 3
   },
   "file_extension": ".py",
   "mimetype": "text/x-python",
   "name": "python",
   "nbconvert_exporter": "python",
   "pygments_lexer": "ipython3",
   "version": "3.6.9"
  }
 },
 "nbformat": 4,
 "nbformat_minor": 4
}
